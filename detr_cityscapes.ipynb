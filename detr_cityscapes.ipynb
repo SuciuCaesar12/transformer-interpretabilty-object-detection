{
 "cells": [
  {
   "cell_type": "code",
   "execution_count": 1,
   "metadata": {},
   "outputs": [],
   "source": [
    "from detr.explainer import DetrExplainer\n",
    "from pathlib import Path\n",
    "from PIL import Image\n",
    "\n",
    "import yaml\n",
    "import torch\n",
    "import wandb\n",
    "import transformers as tr"
   ]
  },
  {
   "cell_type": "code",
   "execution_count": 2,
   "metadata": {},
   "outputs": [],
   "source": [
    "def recursive_eval(d: dict):\n",
    "    for k, v in d.items():\n",
    "        if isinstance(v, dict):\n",
    "            recursive_eval(v)\n",
    "        else:\n",
    "            try:\n",
    "                if not v == 'all':\n",
    "                    d[k] = eval(v)\n",
    "            except (SyntaxError, NameError, TypeError):\n",
    "                pass\n",
    "    return d"
   ]
  },
  {
   "cell_type": "code",
   "execution_count": 3,
   "metadata": {},
   "outputs": [],
   "source": [
    "def load_cityscapes_detr(path_ckpt: Path):\n",
    "    ckpt = torch.load(path_ckpt)\n",
    "    \n",
    "    model = tr.DetrForObjectDetection.from_pretrained(\n",
    "            \"facebook/detr-resnet-50\",\n",
    "            num_labels=ckpt['hyper_parameters']['max_class_id'] + 1,\n",
    "            ignore_mismatched_sizes=True)\n",
    "    \n",
    "    # load model from state_dict; handle key mismatch\n",
    "    state_dict = ckpt['state_dict']\n",
    "    state_dict = {k.replace('model.', '', 1): v for k, v in state_dict.items()} \n",
    "    state_dict = {k.replace('detr.', 'model.', 1): v for k, v in state_dict.items()}\n",
    "    state_dict = {k.replace('model.class_labels_classifier.', 'class_labels_classifier.', 1): v for k, v in state_dict.items()}\n",
    "    state_dict = {k.replace('model.bbox_predictor.', 'bbox_predictor.', 1): v for k, v in state_dict.items()}\n",
    "    model.load_state_dict(state_dict)\n",
    "    \n",
    "    return model"
   ]
  },
  {
   "cell_type": "code",
   "execution_count": 4,
   "metadata": {},
   "outputs": [
    {
     "name": "stderr",
     "output_type": "stream",
     "text": [
      "\u001b[34m\u001b[1mwandb\u001b[0m: Downloading large artifact model-in8k822y:v0, 475.93MB. 1 files... \n",
      "\u001b[34m\u001b[1mwandb\u001b[0m:   1 of 1 files downloaded.  \n",
      "Done. 0:0:1.0\n",
      "Some weights of the model checkpoint at facebook/detr-resnet-50 were not used when initializing DetrForObjectDetection: ['model.backbone.conv_encoder.model.layer1.0.downsample.1.num_batches_tracked', 'model.backbone.conv_encoder.model.layer2.0.downsample.1.num_batches_tracked', 'model.backbone.conv_encoder.model.layer3.0.downsample.1.num_batches_tracked', 'model.backbone.conv_encoder.model.layer4.0.downsample.1.num_batches_tracked']\n",
      "- This IS expected if you are initializing DetrForObjectDetection from the checkpoint of a model trained on another task or with another architecture (e.g. initializing a BertForSequenceClassification model from a BertForPreTraining model).\n",
      "- This IS NOT expected if you are initializing DetrForObjectDetection from the checkpoint of a model that you expect to be exactly identical (initializing a BertForSequenceClassification model from a BertForSequenceClassification model).\n",
      "Some weights of DetrForObjectDetection were not initialized from the model checkpoint at facebook/detr-resnet-50 and are newly initialized because the shapes did not match:\n",
      "- class_labels_classifier.bias: found shape torch.Size([92]) in the checkpoint and torch.Size([20]) in the model instantiated\n",
      "- class_labels_classifier.weight: found shape torch.Size([92, 256]) in the checkpoint and torch.Size([20, 256]) in the model instantiated\n",
      "You should probably TRAIN this model on a down-stream task to be able to use it for predictions and inference.\n"
     ]
    }
   ],
   "source": [
    "artifact_name = 'suciucezar07/detr/model-in8k822y:v0'\n",
    "artifact_dir = wandb.Api()\\\n",
    "    .artifact(artifact_name, type='model')\\\n",
    "    .download(root=Path(r'./resources/artifacts'))\n",
    "\n",
    "model = load_cityscapes_detr(Path(artifact_dir) / 'model.ckpt')"
   ]
  },
  {
   "cell_type": "code",
   "execution_count": 9,
   "metadata": {},
   "outputs": [],
   "source": [
    "with open('config.yaml') as f:\n",
    "    config = yaml.load(f, Loader=yaml.FullLoader)\n",
    "    config = recursive_eval(config)"
   ]
  },
  {
   "cell_type": "code",
   "execution_count": 10,
   "metadata": {},
   "outputs": [
    {
     "data": {
      "text/plain": [
       "{0: 'road',\n",
       " 1: 'sidewalk',\n",
       " 2: 'building',\n",
       " 3: 'wall',\n",
       " 4: 'fence',\n",
       " 5: 'pole',\n",
       " 6: 'traffic light',\n",
       " 7: 'traffic sign',\n",
       " 8: 'vegetation',\n",
       " 9: 'terrain',\n",
       " 10: 'sky',\n",
       " 11: 'person',\n",
       " 12: 'rider',\n",
       " 13: 'car',\n",
       " 14: 'truck',\n",
       " 15: 'bus',\n",
       " 16: 'train',\n",
       " 17: 'motorcycle',\n",
       " 18: 'bicycle'}"
      ]
     },
     "execution_count": 10,
     "metadata": {},
     "output_type": "execute_result"
    }
   ],
   "source": [
    "config['id2label']"
   ]
  },
  {
   "cell_type": "code",
   "execution_count": 11,
   "metadata": {},
   "outputs": [],
   "source": [
    "detr_explainer = DetrExplainer(\n",
    "    model=model, \n",
    "    processor=tr.DetrImageProcessor.from_pretrained(\"facebook/detr-resnet-50\"), \n",
    "    id2label=config['id2label'],\n",
    "    no_object_id=config['no_object_id'],\n",
    "    device='cuda')"
   ]
  },
  {
   "cell_type": "code",
   "execution_count": 12,
   "metadata": {},
   "outputs": [
    {
     "name": "stderr",
     "output_type": "stream",
     "text": [
      "                                                                                                                    \r"
     ]
    }
   ],
   "source": [
    "for img_path in Path(r'./resources/images/cityscapes').glob('*.png'):\n",
    "    detr_explainer.explain(\n",
    "        image=Image.open(img_path),\n",
    "        include_labels=config['include_labels'],\n",
    "        threshold=config['threshold'],\n",
    "        output_dir=Path(r'./explanations') / img_path.stem)"
   ]
  }
 ],
 "metadata": {
  "kernelspec": {
   "display_name": "pytorch_env",
   "language": "python",
   "name": "python3"
  },
  "language_info": {
   "codemirror_mode": {
    "name": "ipython",
    "version": 3
   },
   "file_extension": ".py",
   "mimetype": "text/x-python",
   "name": "python",
   "nbconvert_exporter": "python",
   "pygments_lexer": "ipython3",
   "version": "3.11.8"
  }
 },
 "nbformat": 4,
 "nbformat_minor": 2
}
