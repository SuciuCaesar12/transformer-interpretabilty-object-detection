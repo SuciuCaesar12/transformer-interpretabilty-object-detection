{
 "cells": [
  {
   "cell_type": "code",
   "execution_count": 1,
   "metadata": {},
   "outputs": [],
   "source": [
    "from detr.explainer import DetrExplainer\n",
    "from pathlib import Path\n",
    "from PIL import Image\n",
    "\n",
    "import transformers as tr\n",
    "import torch"
   ]
  },
  {
   "cell_type": "code",
   "execution_count": 2,
   "metadata": {},
   "outputs": [
    {
     "name": "stderr",
     "output_type": "stream",
     "text": [
      "Some weights of the model checkpoint at facebook/detr-resnet-50 were not used when initializing DetrForObjectDetection: ['model.backbone.conv_encoder.model.layer1.0.downsample.1.num_batches_tracked', 'model.backbone.conv_encoder.model.layer2.0.downsample.1.num_batches_tracked', 'model.backbone.conv_encoder.model.layer3.0.downsample.1.num_batches_tracked', 'model.backbone.conv_encoder.model.layer4.0.downsample.1.num_batches_tracked']\n",
      "- This IS expected if you are initializing DetrForObjectDetection from the checkpoint of a model trained on another task or with another architecture (e.g. initializing a BertForSequenceClassification model from a BertForPreTraining model).\n",
      "- This IS NOT expected if you are initializing DetrForObjectDetection from the checkpoint of a model that you expect to be exactly identical (initializing a BertForSequenceClassification model from a BertForSequenceClassification model).\n",
      "c:\\Users\\snovi\\anaconda3\\envs\\pytorch_env\\Lib\\site-packages\\transformers\\models\\detr\\feature_extraction_detr.py:38: FutureWarning: The class DetrFeatureExtractor is deprecated and will be removed in version 5 of Transformers. Please use DetrImageProcessor instead.\n",
      "  warnings.warn(\n"
     ]
    }
   ],
   "source": [
    "model = tr.DetrForObjectDetection.from_pretrained(\n",
    "    \"facebook/detr-resnet-50\", \n",
    "    ignore_mismatched_sizes=True)\n",
    "\n",
    "processor = tr.DetrFeatureExtractor.from_pretrained(\"facebook/detr-resnet-50\")\n",
    "\n",
    "device = torch.device(\"cuda\" if torch.cuda.is_available() else \"cpu\")"
   ]
  },
  {
   "cell_type": "code",
   "execution_count": 3,
   "metadata": {},
   "outputs": [],
   "source": [
    "detr_explainer = DetrExplainer(\n",
    "    model=model, \n",
    "    processor=processor, \n",
    "    id2label=model.config.id2label,\n",
    "    no_object_id=len(model.config.id2label),\n",
    "    device=device)"
   ]
  },
  {
   "cell_type": "code",
   "execution_count": 5,
   "metadata": {},
   "outputs": [
    {
     "name": "stderr",
     "output_type": "stream",
     "text": [
      "                                                                                                                    \r"
     ]
    }
   ],
   "source": [
    "for img_path in Path(r'./resources/images/coco').glob('*.jpg'):\n",
    "    img = Image.open(img_path)\n",
    "    detr_explainer.explain(\n",
    "        image=img,\n",
    "        include_labels=['cat'],\n",
    "        threshold=0.9,\n",
    "        output_dir=Path(r'./explanations/') / img_path.stem)"
   ]
  }
 ],
 "metadata": {
  "kernelspec": {
   "display_name": "pytorch_env",
   "language": "python",
   "name": "python3"
  },
  "language_info": {
   "codemirror_mode": {
    "name": "ipython",
    "version": 3
   },
   "file_extension": ".py",
   "mimetype": "text/x-python",
   "name": "python",
   "nbconvert_exporter": "python",
   "pygments_lexer": "ipython3",
   "version": "3.11.8"
  }
 },
 "nbformat": 4,
 "nbformat_minor": 2
}
