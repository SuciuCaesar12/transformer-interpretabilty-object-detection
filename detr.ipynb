{
 "cells": [
  {
   "cell_type": "code",
   "execution_count": 2,
   "metadata": {},
   "outputs": [],
   "source": [
    "from detr.explainer import DetrExplainer\n",
    "from pathlib import Path\n",
    "from PIL import Image\n",
    "\n",
    "import torch\n",
    "import transformers as tr"
   ]
  },
  {
   "cell_type": "code",
   "execution_count": 3,
   "metadata": {},
   "outputs": [],
   "source": [
    "def load_detr_from_ckpt(path_ckpt: Path):\n",
    "    ckpt = torch.load(path_ckpt)\n",
    "    model = tr.DetrForObjectDetection.from_pretrained(\n",
    "            \"facebook/detr-resnet-50\",\n",
    "            num_labels=ckpt['hyper_parameters']['max_class_id'] + 1,\n",
    "            ignore_mismatched_sizes=True)\n",
    "    \n",
    "    state_dict = ckpt['state_dict']\n",
    "    state_dict = {k.replace('model.', '', 1): v for k, v in state_dict.items()} \n",
    "    state_dict = {k.replace('detr.', 'model.', 1): v for k, v in state_dict.items()}\n",
    "    state_dict = {k.replace('model.class_labels_classifier.', 'class_labels_classifier.', 1): v for k, v in state_dict.items()}\n",
    "    state_dict = {k.replace('model.bbox_predictor.', 'bbox_predictor.', 1): v for k, v in state_dict.items()}\n",
    "    model.load_state_dict(state_dict)\n",
    "    \n",
    "    return model"
   ]
  },
  {
   "cell_type": "code",
   "execution_count": 4,
   "metadata": {},
   "outputs": [
    {
     "name": "stderr",
     "output_type": "stream",
     "text": [
      "Some weights of the model checkpoint at facebook/detr-resnet-50 were not used when initializing DetrForObjectDetection: ['model.backbone.conv_encoder.model.layer1.0.downsample.1.num_batches_tracked', 'model.backbone.conv_encoder.model.layer2.0.downsample.1.num_batches_tracked', 'model.backbone.conv_encoder.model.layer3.0.downsample.1.num_batches_tracked', 'model.backbone.conv_encoder.model.layer4.0.downsample.1.num_batches_tracked']\n",
      "- This IS expected if you are initializing DetrForObjectDetection from the checkpoint of a model trained on another task or with another architecture (e.g. initializing a BertForSequenceClassification model from a BertForPreTraining model).\n",
      "- This IS NOT expected if you are initializing DetrForObjectDetection from the checkpoint of a model that you expect to be exactly identical (initializing a BertForSequenceClassification model from a BertForSequenceClassification model).\n",
      "Some weights of DetrForObjectDetection were not initialized from the model checkpoint at facebook/detr-resnet-50 and are newly initialized because the shapes did not match:\n",
      "- class_labels_classifier.bias: found shape torch.Size([92]) in the checkpoint and torch.Size([20]) in the model instantiated\n",
      "- class_labels_classifier.weight: found shape torch.Size([92, 256]) in the checkpoint and torch.Size([20, 256]) in the model instantiated\n",
      "You should probably TRAIN this model on a down-stream task to be able to use it for predictions and inference.\n"
     ]
    }
   ],
   "source": [
    "PATH_CKPT = Path(r'./resources/checkpoints/model.ckpt')\n",
    "\n",
    "model = load_detr_from_ckpt(PATH_CKPT)\n",
    "processor = tr.DetrImageProcessor.from_pretrained(\"facebook/detr-resnet-50\")"
   ]
  },
  {
   "cell_type": "code",
   "execution_count": 5,
   "metadata": {},
   "outputs": [],
   "source": [
    "detr_explainer = DetrExplainer(model, processor, device='cuda')\n",
    "\n",
    "categories=[\n",
    "    'road',\n",
    "    'sidewalk',\n",
    "    'building',\n",
    "    'wall',\n",
    "    'fence',\n",
    "    'pole',\n",
    "    'traffic light',\n",
    "    'traffic sign',\n",
    "    'vegetation',\n",
    "    'terrain',\n",
    "    'sky',\n",
    "    'person',\n",
    "    'rider',\n",
    "    'car',\n",
    "    'truck',\n",
    "    'bus',\n",
    "    'train',\n",
    "    'motorcycle',\n",
    "    'bicycle'\n",
    "]\n",
    "\n",
    "no_object_id = 20"
   ]
  },
  {
   "cell_type": "code",
   "execution_count": 7,
   "metadata": {},
   "outputs": [
    {
     "name": "stderr",
     "output_type": "stream",
     "text": [
      "The `max_size` parameter is deprecated and will be removed in v4.26. Please specify in `size['longest_edge'] instead`.\n",
      "                                                                      \r"
     ]
    }
   ],
   "source": [
    "img_paths = Path(r'./resources/images').glob('*.png')\n",
    "\n",
    "for img_path in list(img_paths)[:1]:\n",
    "    detr_explainer.explain(\n",
    "        image=Image.open(img_path),\n",
    "        no_object_id=no_object_id,\n",
    "        categories=categories,\n",
    "        output_dir=Path(r'./explanations') / img_path.stem,\n",
    "        output_dir=None,\n",
    "        threshold=0.9)"
   ]
  }
 ],
 "metadata": {
  "kernelspec": {
   "display_name": "pytorch_env",
   "language": "python",
   "name": "python3"
  },
  "language_info": {
   "codemirror_mode": {
    "name": "ipython",
    "version": 3
   },
   "file_extension": ".py",
   "mimetype": "text/x-python",
   "name": "python",
   "nbconvert_exporter": "python",
   "pygments_lexer": "ipython3",
   "version": "3.11.8"
  }
 },
 "nbformat": 4,
 "nbformat_minor": 2
}
